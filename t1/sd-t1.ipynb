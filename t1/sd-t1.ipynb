{
 "cells": [
  {
   "cell_type": "code",
   "execution_count": 45,
   "metadata": {},
   "outputs": [
    {
     "name": "stdout",
     "output_type": "stream",
     "text": [
      "test-V1-N5000-time-results.txt\n",
      "test-V1-N1000-time-results.txt\n",
      "test-V1-N10000-time-results.txt\n",
      "test-V1-N2500-time-results.txt\n",
      "test-V2-N1000-time-results.txt\n",
      "test-V2-N2500-time-results.txt\n",
      "test-V2-N5000-time-results.txt\n",
      "test-V2-N10000-time-results.txt\n",
      "{'V1': {'N5000': {'all': [0.3144, 0.3352, 0.344, 0.3498, 0.3533, 0.3588, 0.3679, 0.3721, 0.3732, 0.3859, 0.4023], 'median': 0.3679}, 'N1000': {'all': [0.0644, 0.0652, 0.0656, 0.069, 0.0695, 0.0698, 0.0715, 0.0763, 0.079, 0.0834, 0.1088], 'median': 0.0715}, 'N10000': {'all': [0.6163, 0.6788, 0.6853, 0.698, 0.7129, 0.7132, 0.7152, 0.7156, 0.7218, 0.7228, 0.7257], 'median': 0.7152}, 'N2500': {'all': [0.1569, 0.1634, 0.1694, 0.1702, 0.1749, 0.1875, 0.1886, 0.1956, 0.1978, 0.1989, 0.2075], 'median': 0.1886}}, 'V2': {'N1000': {'all': [0.0211, 0.0214, 0.0217, 0.0226, 0.0228, 0.0228, 0.0231, 0.0233, 0.0296, 0.0364, 0.0655], 'median': 0.0231}, 'N2500': {'all': [0.0506, 0.0509, 0.051, 0.0554, 0.0557, 0.0576, 0.0584, 0.0591, 0.0592, 0.0631, 0.1045], 'median': 0.0584}, 'N5000': {'all': [0.0952, 0.097, 0.1027, 0.1078, 0.1139, 0.1156, 0.1165, 0.121, 0.1269, 0.1314, 0.1389], 'median': 0.1165}, 'N10000': {'all': [0.2035, 0.2056, 0.2246, 0.2283, 0.2509, 0.2527, 0.2576, 0.2597, 0.3104, 0.346, 0.3871], 'median': 0.2576}}}\n"
     ]
    }
   ],
   "source": [
    "import os\n",
    "import sys\n",
    "import pandas as pd\n",
    "import matplotlib.pyplot as plt\n",
    "\n",
    "result_dirs = [\"v1\", \"v2\"]\n",
    "curr_path = os.getcwd()\n",
    "times = {}\n",
    "for result_dir in result_dirs:\n",
    "    result_dir_path = os.path.join(curr_path, result_dir)\n",
    "    id = result_dir.upper()\n",
    "    times[id] = {}\n",
    "    for file in os.listdir(result_dir_path):\n",
    "        print(file)\n",
    "        file_path = os.path.join(result_dir_path, file)\n",
    "        tmp = file.split(\"-\")\n",
    "#         id = \"{}-{}\".format(tmp[2],tmp[1])\n",
    "        times[id][tmp[2]] = {} \n",
    "#         times[id][tmp[2]] = []        \n",
    "        times[id][tmp[2]][\"all\"] = []        \n",
    "        with open(file_path, \"r\") as f:\n",
    "            lines = f.readlines()\n",
    "            for offset, time_mark in enumerate(lines):\n",
    "                t = round(float(time_mark[12:]),4)\n",
    "#                 times[id][tmp[2]].append(t)\n",
    "                times[id][tmp[2]][\"all\"].append(t)\n",
    "                if (offset == 6):\n",
    "                    times[id][tmp[2]][\"median\"] = t\n",
    "print(times)"
   ]
  },
  {
   "cell_type": "code",
   "execution_count": 54,
   "metadata": {},
   "outputs": [
    {
     "name": "stdout",
     "output_type": "stream",
     "text": [
      "Version: V1 - Median times for N requests:\n",
      "\tN5000 requests - median: 0.3679s\n",
      "\tN1000 requests - median: 0.0715s\n",
      "\tN10000 requests - median: 0.7152s\n",
      "\tN2500 requests - median: 0.1886s\n",
      "Version: V2 - Median times for N requests:\n",
      "\tN1000 requests - median: 0.0231s\n",
      "\tN2500 requests - median: 0.0584s\n",
      "\tN5000 requests - median: 0.1165s\n",
      "\tN10000 requests - median: 0.2576s\n"
     ]
    }
   ],
   "source": [
    "v1 = \"V1\"\n",
    "v2 = \"V2\"\n",
    "print(\"Median times for N requests:\")\n",
    "for i in times[v1]:\n",
    "#         print(times[t][i])\n",
    "    print(\"\\t{} requests -> V1 median: {}s\".format(i, times[v1][i][\"median\"]))"
   ]
  },
  {
   "cell_type": "code",
   "execution_count": 41,
   "metadata": {},
   "outputs": [
    {
     "name": "stdout",
     "output_type": "stream",
     "text": [
      "Mediana de tempos V1 (em segundos) para cada N requests :\n",
      "\n",
      "N5000     0.3588\n",
      "N1000     0.0698\n",
      "N10000    0.7132\n",
      "N2500     0.1875\n",
      "dtype: float64\n",
      "Mediana de tempos V2 (em segundos) para cada N requests :\n",
      "\n",
      "N1000     0.0228\n",
      "N2500     0.0576\n",
      "N5000     0.1156\n",
      "N10000    0.2527\n",
      "dtype: float64\n"
     ]
    }
   ],
   "source": [
    "df1 = pd.DataFrame(times[\"V1\"])\n",
    "df2 = pd.DataFrame(times[\"V2\"])\n",
    "# print(df1)\n",
    "# print(df2)\n",
    "\n",
    "print(\"Mediana de tempos V1 (em segundos) para cada N requests :\\n\")\n",
    "print(df1.median())\n",
    "\n",
    "print(\"Mediana de tempos V2 (em segundos) para cada N requests :\\n\")\n",
    "print(df2.median())\n",
    "\n",
    "# cols = [\"N5000\",\"N1000\",\"N10000\",\"N2500\"]\n",
    "# grouped1 = {}\n",
    "# grouped2 = {}\n",
    "\n",
    "# for col in cols:\n",
    "#     grouped1[col] = df1.groupby(['CLIENT', 'TEST'])[['TIME_S']]\n",
    "# grouped1 = df1.groupby(['CLIENT', 'TEST'])[['TIME_S']]"
   ]
  },
  {
   "cell_type": "code",
   "execution_count": 26,
   "metadata": {},
   "outputs": [
    {
     "name": "stdout",
     "output_type": "stream",
     "text": [
      "V1\n",
      "V1 N5000\n",
      "V1 N5000 all\n",
      "V1 N5000 median\n",
      "V1 N1000\n",
      "V1 N1000 all\n",
      "V1 N1000 median\n",
      "V1 N10000\n",
      "V1 N10000 all\n",
      "V1 N10000 median\n",
      "V1 N2500\n",
      "V1 N2500 all\n",
      "V1 N2500 median\n",
      "V2\n",
      "V2 N1000\n",
      "V2 N1000 all\n",
      "V2 N1000 median\n",
      "V2 N2500\n",
      "V2 N2500 all\n",
      "V2 N2500 median\n",
      "V2 N5000\n",
      "V2 N5000 all\n",
      "V2 N5000 median\n",
      "V2 N10000\n",
      "V2 N10000 all\n",
      "V2 N10000 median\n"
     ]
    }
   ],
   "source": [
    "for i in times:\n",
    "    print(i)\n",
    "    for j in times[i]:\n",
    "        print(i, j)\n",
    "        for k in times[i][j]:\n",
    "            print(i,j,k)"
   ]
  },
  {
   "cell_type": "code",
   "execution_count": 16,
   "metadata": {},
   "outputs": [
    {
     "name": "stdout",
     "output_type": "stream",
     "text": [
      "0.3679 N5000-V1\n",
      "0.0715 N1000-V1\n",
      "0.7152 N10000-V1\n",
      "0.1886 N2500-V1\n",
      "0.0231 N1000-V2\n",
      "0.0584 N2500-V2\n",
      "0.1165 N5000-V2\n",
      "0.2576 N10000-V2\n"
     ]
    }
   ],
   "source": [
    "\n",
    "# %matplotlib inline\n",
    "for file in times:\n",
    "    print(times[file][\"median\"], file)\n"
   ]
  },
  {
   "cell_type": "code",
   "execution_count": 58,
   "metadata": {},
   "outputs": [
    {
     "data": {
      "image/png": "[encoded data removed]",
      "text/plain": [
       "<Figure size 432x288 with 1 Axes>"
      ]
     },
     "metadata": {
      "needs_background": "light"
     },
     "output_type": "display_data"
    }
   ],
   "source": [
    "df1.boxplot()\n",
    "title_boxplot = 'Consumers Times - 4 Nodes Cluster'\n",
    "plt.title( title_boxplot )\n",
    "plt.suptitle('')\n",
    "#plt.ylim(0, 0.005)\n",
    "plt.show()"
   ]
  },
  {
   "cell_type": "code",
   "execution_count": 59,
   "metadata": {},
   "outputs": [
    {
     "name": "stderr",
     "output_type": "stream",
     "text": [
      "/home/Marcelo/anaconda3/lib/python3.7/site-packages/matplotlib/font_manager.py:1331: UserWarning: findfont: Font family ['Times New Roman'] not found. Falling back to DejaVu Sans\n",
      "  (prop.get_family(), self.defaultFamily[fontext]))\n"
     ]
    },
    {
     "data": {
      "image/png": "[encoded data removed]",
      "text/plain": [
       "<Figure size 432x288 with 1 Axes>"
      ]
     },
     "metadata": {
      "needs_background": "light"
     },
     "output_type": "display_data"
    }
   ],
   "source": [
    "\n",
    "from matplotlib.font_manager import FontProperties\n",
    "\n",
    "v1_median_times = [0.0715, 0.1886, 0.3679, 0.7152]\n",
    "v2_median_times = [0.0231, 0.0584, 0.1165, 0.2576]\n",
    "\n",
    "x_labels = ['N1000','N2500','N5000','N10000']\n",
    "bar_width = 0.35\n",
    "x = [0,1,2,3]\n",
    "x2 = []\n",
    "for i in range(len(x)):\n",
    "    x2.append(x[i] + bar_width)\n",
    "    \n",
    "font = {'fontname':'Times New Roman','size'   : 13 }\n",
    "\n",
    "plt.ylabel('Median of Times\\n(seconds)', **font)\n",
    "\n",
    "p1 = plt.bar(x, v1_median_times, width = bar_width, color='#2f4f4f')\n",
    "p2 = plt.bar(x2, v2_median_times, width = bar_width, color='#d3d3d3')\n",
    "_ = plt.xticks(x, x_labels, **font)\n",
    "# _ = plt.xticks(x, x_labels)\n",
    "\n",
    "# fontP = FontProperties()\n",
    "# fontP.set_size('small')\n",
    "\n",
    "plt.legend((p1[0], p2[0]), ('V1', 'V2'), bbox_to_anchor=(1,1))\n",
    "\n",
    "plt.show()\n"
   ]
  }
 ],
 "metadata": {
  "kernelspec": {
   "display_name": "Python 3",
   "language": "python",
   "name": "python3"
  },
  "language_info": {
   "codemirror_mode": {
    "name": "ipython",
    "version": 3
   },
   "file_extension": ".py",
   "mimetype": "text/x-python",
   "name": "python",
   "nbconvert_exporter": "python",
   "pygments_lexer": "ipython3",
   "version": "3.7.0"
  }
 },
 "nbformat": 4,
 "nbformat_minor": 4
}
