{
 "cells": [
  {
   "cell_type": "code",
   "execution_count": 74,
   "metadata": {},
   "outputs": [],
   "source": [
    "import os\n",
    "import sys\n",
    "import pandas as pd\n",
    "import matplotlib.pyplot as plt\n",
    "\n",
    "result_dirs = [\"results-no-pool\", \"results-with-pool\"]\n",
    "version_dic = {\"results-no-pool\": \"V1\", \"results-with-pool\": \"V2\"}\n",
    "test_loads = {\"1c\":\"N1\", \"5c\":\"N5\", \"50c\":\"N50\"}\n",
    "# test_loads = {\"1c\":\"N1\", \"5c\":\"N5\"}\n",
    "curr_path = os.getcwd()\n",
    "times = {}\n",
    "for result_dir in result_dirs:\n",
    "    result_dir_path = os.path.join(curr_path, result_dir)\n",
    "    id = version_dic[result_dir].upper()\n",
    "    times[id] = {}\n",
    "    for num_clients in test_loads:\n",
    "        curr_test_dir = os.path.join(result_dir_path, num_clients)\n",
    "        load_id = test_loads[num_clients]\n",
    "        times[id][load_id] = {}\n",
    "#         times[id][load_id][\"times\"] = [] \n",
    "#         times[id][load_id][\"median\"]\n",
    "        \n",
    "        \n",
    "        for file in os.listdir(curr_test_dir):\n",
    "            attempt = file.split(\"-\")\n",
    "            attempt = attempt[1]\n",
    "#             print(id, load_id, attempt)\n",
    "            times[id][load_id][attempt] = {}\n",
    "            total = 0\n",
    "            aux_lst = []\n",
    "            \n",
    "            file_path = os.path.join(curr_test_dir, file)\n",
    "            with open(file_path, \"r\") as f:\n",
    "                lines = f.readlines()\n",
    "\n",
    "                for l in lines:\n",
    "                    mark = l.find(\":\")\n",
    "                    time = float(l[(mark+2):].strip(\"\\n\"))\n",
    "#                     print(time)\n",
    "                    total += time\n",
    "                    aux_lst.append(time)\n",
    "#                     print(total)\n",
    "#                     print(times)\n",
    "            \n",
    "        \n",
    "            times[id][load_id][attempt][\"times\"] = aux_lst\n",
    "            times[id][load_id][attempt][\"total\"] = total\n",
    "        "
   ]
  },
  {
   "cell_type": "code",
   "execution_count": 76,
   "metadata": {},
   "outputs": [],
   "source": [
    "# Getting median of tests\n",
    "median_tests = dict()\n",
    "for v in times:\n",
    "    median_tests[v] = dict()\n",
    "    for n in times[v]:\n",
    "        totals_lst = []\n",
    "        median_tests[v][n] = dict()\n",
    "        for i in times[v][n]:\n",
    "            totals_lst.append(times[v][n][i][\"total\"]) \n",
    "        totals_lst.sort()\n",
    "        total_median = pd.DataFrame(totals_lst).median()[0]\n",
    "        \n",
    "        for i in times[v][n]:\n",
    "            if times[v][n][i][\"total\"] == total_median:\n",
    "                median_tests[v][n][\"times\"] = times[v][n][i][\"times\"]\n",
    "                median_tests[v][n][\"total\"] = total_median\n",
    "                break\n",
    "        \n"
   ]
  },
  {
   "cell_type": "code",
   "execution_count": 77,
   "metadata": {},
   "outputs": [
    {
     "name": "stdout",
     "output_type": "stream",
     "text": [
      "Mediana de tempos V1 (em segundos) para cada N requests :\n",
      "\n",
      "Series([], dtype: float64)\n",
      "Mediana de tempos V2 (em segundos) para cada N requests :\n",
      "\n",
      "Series([], dtype: float64)\n"
     ]
    }
   ],
   "source": [
    "df1 = pd.DataFrame(median_tests[\"V1\"])\n",
    "df2 = pd.DataFrame(median_tests[\"V2\"])\n",
    "# print(df1)\n",
    "# print(df2)\n",
    "\n",
    "print(\"Mediana de tempos V1 (em segundos) para cada N requests :\\n\")\n",
    "print(df1.median())\n",
    "\n",
    "print(\"Mediana de tempos V2 (em segundos) para cada N requests :\\n\")\n",
    "print(df2.median())"
   ]
  },
  {
   "cell_type": "code",
   "execution_count": 78,
   "metadata": {},
   "outputs": [
    {
     "name": "stdout",
     "output_type": "stream",
     "text": [
      "[1.1024520397186, 17.780243396759097, 367.86168789863575]\n",
      "[0.65135192871094, 16.9217722415924, 394.3068213462832]\n"
     ]
    }
   ],
   "source": [
    "v1_median_times = [df1[n][\"total\"] for n in df1]\n",
    "v2_median_times = [df2[n][\"total\"] for n in df2]\n",
    "\n",
    "print(v1_median_times)\n",
    "print(v2_median_times)"
   ]
  },
  {
   "cell_type": "code",
   "execution_count": 79,
   "metadata": {},
   "outputs": [
    {
     "data": {
      "image/png": "[encoded data removed]",
      "text/plain": [
       "<Figure size 432x288 with 1 Axes>"
      ]
     },
     "metadata": {
      "needs_background": "light"
     },
     "output_type": "display_data"
    }
   ],
   "source": [
    "from matplotlib.font_manager import FontProperties\n",
    "\n",
    "v1_median_times = [df1[n][\"total\"] for n in df1]\n",
    "v2_median_times = [df2[n][\"total\"] for n in df2]\n",
    "\n",
    "x_labels = ['N1','N5','N50']\n",
    "bar_width = 0.35\n",
    "x = [0,1,2]\n",
    "x2 = []\n",
    "for i in range(len(x)):\n",
    "    x2.append(x[i] + bar_width)\n",
    "    \n",
    "font = {'fontname':'Times New Roman','size'   : 13 }\n",
    "\n",
    "plt.ylabel('Median of Times\\n(seconds)', **font)\n",
    "\n",
    "p1 = plt.bar(x, v1_median_times, width = bar_width, color='#2f4f4f')\n",
    "p2 = plt.bar(x2, v2_median_times, width = bar_width, color='#d3d3d3')\n",
    "_ = plt.xticks(x, x_labels, **font)\n",
    "# _ = plt.xticks(x, x_labels)\n",
    "\n",
    "# fontP = FontProperties()\n",
    "# fontP.set_size('small')\n",
    "\n",
    "plt.legend((p1[0], p2[0]), ('V1', 'V2'), bbox_to_anchor=(1,1))\n",
    "\n",
    "plt.show()"
   ]
  },
  {
   "cell_type": "code",
   "execution_count": 130,
   "metadata": {},
   "outputs": [],
   "source": [
    "from matplotlib.font_manager import FontProperties\n",
    "\n",
    "def plot_bars(n):\n",
    "    n = str(n)\n",
    "    v1_median_times = df1[\"N\"+n][\"total\"]\n",
    "    v2_median_times = df2[\"N\"+n][\"total\"]\n",
    "    \n",
    "    x_labels = []\n",
    "    bar_width = 0.35\n",
    "    x = [0]\n",
    "    x2 = []\n",
    "    for i in range(len(x)):\n",
    "        x2.append(x[i] + bar_width*2)\n",
    "\n",
    "    font = {'fontname':'Times New Roman','size'   : 13 }\n",
    "\n",
    "    plt.ylabel('Total time of the test\\n(seconds)', **font)\n",
    "\n",
    "    p1 = plt.bar(x, v1_median_times, width = bar_width, color='#d3d3d3')\n",
    "    p2 = plt.bar(x2, v2_median_times, width = bar_width, color='#2f4f4f')\n",
    "    _ = plt.xticks(x, x_labels, **font)\n",
    "    # _ = plt.xticks(x, x_labels)\n",
    "\n",
    "    # fontP = FontProperties()\n",
    "    # fontP.set_size('small')\n",
    "\n",
    "    plt.legend((p1[0], p2[0]), ('V1 - no pool', 'V2 - with pool'), bbox_to_anchor=(1,1))\n",
    "    title = \"Time to run all \" + n + \" clients\"\n",
    "    plt.title( title )\n",
    "    plt.show()\n",
    "    \n",
    "    median_v1 = pd.DataFrame(df1[\"N\"+n][\"times\"]).median()[0]\n",
    "    median_v2 = pd.DataFrame(df2[\"N\"+n][\"times\"]).median()[0]\n",
    "    print(\"V1 - Time to run one client (median):\", median_v1)\n",
    "    print(\"V2 - Time to run one client (median):\", median_v2)    "
   ]
  },
  {
   "cell_type": "code",
   "execution_count": 131,
   "metadata": {},
   "outputs": [
    {
     "data": {
      "image/png": "[encoded data removed]",
      "text/plain": [
       "<Figure size 432x288 with 1 Axes>"
      ]
     },
     "metadata": {
      "needs_background": "light"
     },
     "output_type": "display_data"
    },
    {
     "name": "stdout",
     "output_type": "stream",
     "text": [
      "V1 - Time to run one client (median): 1.1024520397186\n",
      "V2 - Time to run one client (median): 0.65135192871094\n"
     ]
    }
   ],
   "source": [
    "plot_bars(1)"
   ]
  },
  {
   "cell_type": "code",
   "execution_count": 132,
   "metadata": {},
   "outputs": [
    {
     "data": {
      "image/png": "[encoded data removed]",
      "text/plain": [
       "<Figure size 432x288 with 1 Axes>"
      ]
     },
     "metadata": {
      "needs_background": "light"
     },
     "output_type": "display_data"
    },
    {
     "name": "stdout",
     "output_type": "stream",
     "text": [
      "V1 - Time to run one client (median): 3.5563170909882\n",
      "V2 - Time to run one client (median): 3.3846218585968\n"
     ]
    }
   ],
   "source": [
    "plot_bars(5)"
   ]
  },
  {
   "cell_type": "code",
   "execution_count": 133,
   "metadata": {},
   "outputs": [
    {
     "data": {
      "image/png": "[encoded data removed]",
      "text/plain": [
       "<Figure size 432x288 with 1 Axes>"
      ]
     },
     "metadata": {
      "needs_background": "light"
     },
     "output_type": "display_data"
    },
    {
     "name": "stdout",
     "output_type": "stream",
     "text": [
      "V1 - Time to run one client (median): 7.09844958782195\n",
      "V2 - Time to run one client (median): 7.867704987525951\n"
     ]
    }
   ],
   "source": [
    "plot_bars(50)"
   ]
  },
  {
   "cell_type": "code",
   "execution_count": null,
   "metadata": {},
   "outputs": [],
   "source": []
  },
  {
   "cell_type": "code",
   "execution_count": 190,
   "metadata": {},
   "outputs": [
    {
     "data": {
      "image/png": "[encoded data removed]",
      "text/plain": [
       "<Figure size 432x288 with 1 Axes>"
      ]
     },
     "metadata": {
      "needs_background": "light"
     },
     "output_type": "display_data"
    }
   ],
   "source": [
    "pd5_v1 = pd.Series(df1[\"N50\"][\"times\"])\n",
    "pd5_v2 = pd.Series(df2[\"N50\"][\"times\"])\n",
    "font = {'fontname':'Times New Roman','size': 13 }\n",
    "\n",
    "plt.boxplot ([pd5_v1, pd5_v2])\n",
    "\n",
    "title_boxplot = 'Boxplot of test with 50 clients'\n",
    "plt.title(title_boxplot, **font)\n",
    "plt.ylabel('Time in seconds', **font)\n",
    "plt.suptitle('')\n",
    "plt.show()"
   ]
  },
  {
   "cell_type": "code",
   "execution_count": null,
   "metadata": {},
   "outputs": [],
   "source": []
  },
  {
   "cell_type": "code",
   "execution_count": 216,
   "metadata": {},
   "outputs": [],
   "source": [
    "file_path = \"/home/Marcelo/Documents/puc-tmp/ZeroBraneStudio-1.80/projects-marcelo/t2/tmp-worse-case-pool/no-shutdown-V2-N5.txt\"\n",
    "worst_case = []\n",
    "total = 0\n",
    "tmp = {}\n",
    "with open(file_path, \"r\") as f:\n",
    "    lines = f.readlines()\n",
    "\n",
    "    for l in lines:\n",
    "        mark = l.find(\":\")\n",
    "        time = float(l[(mark+2):].strip(\"\\n\"))\n",
    "        total += time\n",
    "        worst_case.append(time)\n",
    "\n",
    "tmp[\"times\"] = worst_case\n",
    "tmp[\"total\"] = total\n",
    "# no_shutdown = {\"V2\": {\"N5\": tmp}}\n",
    "df_worst = pd.DataFrame(tmp)\n",
    "# df_best = pd.DataFrame(df2[\"N5\"])\n",
    "# print(df_best[\"times\"])\n",
    "# print(df_best[\"times\"])"
   ]
  },
  {
   "cell_type": "code",
   "execution_count": 225,
   "metadata": {},
   "outputs": [],
   "source": [
    "v1_median_times = pd.DataFrame(df2[\"N5\"][\"times\"]).median()[0]"
   ]
  },
  {
   "cell_type": "code",
   "execution_count": null,
   "metadata": {},
   "outputs": [],
   "source": []
  },
  {
   "cell_type": "code",
   "execution_count": 232,
   "metadata": {},
   "outputs": [
    {
     "data": {
      "image/png": "[encoded data removed]",
      "text/plain": [
       "<Figure size 432x288 with 1 Axes>"
      ]
     },
     "metadata": {
      "needs_background": "light"
     },
     "output_type": "display_data"
    },
    {
     "name": "stdout",
     "output_type": "stream",
     "text": [
      "V1 - Time to run one client (median): 26.004794836044\n",
      "V2 - Time to run one client (median): 3.3846218585968\n"
     ]
    }
   ],
   "source": [
    "n = 5\n",
    "n = str(n)\n",
    "v1_median_times = pd.DataFrame(df_worst[\"times\"]).median()[0]\n",
    "v2_median_times = pd.DataFrame(df2[\"N5\"][\"times\"]).median()[0]\n",
    "\n",
    "x_labels = []\n",
    "bar_width = 0.35\n",
    "x = [0]\n",
    "x2 = []\n",
    "for i in range(len(x)):\n",
    "    x2.append(x[i] + bar_width*2)\n",
    "\n",
    "font = {'fontname':'Times New Roman','size'   : 13 }\n",
    "\n",
    "plt.ylabel('Tempo da mediana\\n(em seg)', **font)\n",
    "\n",
    "p1 = plt.bar(x, v1_median_times, width = bar_width, color='#fd6b81')\n",
    "p2 = plt.bar(x2, v2_median_times, width = bar_width, color='#8092f9')\n",
    "_ = plt.xticks(x, x_labels, **font)\n",
    "# _ = plt.xticks(x, x_labels)\n",
    "\n",
    "# fontP = FontProperties()\n",
    "# fontP.set_size('small')\n",
    "\n",
    "plt.legend((p1[0], p2[0]), ('using socket:close()', 'using socket:shutdown()'), bbox_to_anchor=(1,1))\n",
    "title = \"Comparação entre RPC com Pool de Conexões \\nfechando a conexão com close() e com shutdown()\"\n",
    "plt.title( title )\n",
    "plt.show()\n",
    "\n",
    "# median_v1 = pd.DataFrame(df1[\"N\"+n][\"times\"]).median()[0]\n",
    "# median_v2 = pd.DataFrame(df2[\"N\"+n][\"times\"]).median()[0]\n",
    "print(\"V1 - Time to run one client (median):\", v1_median_times)\n",
    "print(\"V2 - Time to run one client (median):\", v2_median_times)    "
   ]
  },
  {
   "cell_type": "code",
   "execution_count": null,
   "metadata": {},
   "outputs": [],
   "source": []
  }
 ],
 "metadata": {
  "kernelspec": {
   "display_name": "Python 3",
   "language": "python",
   "name": "python3"
  },
  "language_info": {
   "codemirror_mode": {
    "name": "ipython",
    "version": 3
   },
   "file_extension": ".py",
   "mimetype": "text/x-python",
   "name": "python",
   "nbconvert_exporter": "python",
   "pygments_lexer": "ipython3",
   "version": "3.7.0"
  }
 },
 "nbformat": 4,
 "nbformat_minor": 4
}
